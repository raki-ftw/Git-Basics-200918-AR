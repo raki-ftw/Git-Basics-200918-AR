{
 "cells": [
  {
   "cell_type": "code",
   "execution_count": 11,
   "metadata": {},
   "outputs": [
    {
     "data": {
      "text/html": [
       "<h1>Guess the Movie Quiz</h1>"
      ],
      "text/plain": [
       "<IPython.core.display.HTML object>"
      ]
     },
     "metadata": {},
     "output_type": "display_data"
    },
    {
     "name": "stdout",
     "output_type": "stream",
     "text": [
      "Hey there! Enter your name to play:Raki\n",
      "\n",
      "Hi Raki! Enter the letter of your answer.\n",
      "\n",
      "\n",
      "Guess the movie #1\n"
     ]
    },
    {
     "data": {
      "text/html": [
       "<span style=\"font-size: 5rem;\">🌊🧔🔱🐟</span>"
      ],
      "text/plain": [
       "<IPython.core.display.HTML object>"
      ]
     },
     "metadata": {},
     "output_type": "display_data"
    },
    {
     "name": "stdout",
     "output_type": "stream",
     "text": [
      "a. 2012\n",
      "b. Aquaman\n",
      "c. Oceans 11\n",
      "a\n",
      "\n",
      "Guess the movie #2\n"
     ]
    },
    {
     "data": {
      "text/html": [
       "<span style=\"font-size: 5rem;\">👨‍🦱👴🏎️⌚</span>"
      ],
      "text/plain": [
       "<IPython.core.display.HTML object>"
      ]
     },
     "metadata": {},
     "output_type": "display_data"
    },
    {
     "name": "stdout",
     "output_type": "stream",
     "text": [
      "a. Back to the Future\n",
      "b. Rush Hour\n",
      "c. The Curious Case of Benjamin Button\n",
      "a\n",
      "\n",
      "Guess the movie #3\n"
     ]
    },
    {
     "data": {
      "text/html": [
       "<span style=\"font-size: 5rem;\">🏰👩👩‍🦳❄️☃️</span>"
      ],
      "text/plain": [
       "<IPython.core.display.HTML object>"
      ]
     },
     "metadata": {},
     "output_type": "display_data"
    },
    {
     "name": "stdout",
     "output_type": "stream",
     "text": [
      "a. Frozen\n",
      "b. Anastacia\n",
      "c. Jack Frost\n",
      "a\n",
      "\n",
      "Guess the movie #4\n"
     ]
    },
    {
     "data": {
      "text/html": [
       "<span style=\"font-size: 5rem;\">🌊1️⃣1️⃣</span>"
      ],
      "text/plain": [
       "<IPython.core.display.HTML object>"
      ]
     },
     "metadata": {},
     "output_type": "display_data"
    },
    {
     "name": "stdout",
     "output_type": "stream",
     "text": [
      "a. 2012\n",
      "b. Little Mermaid\n",
      "c. Oceans 11\n",
      "c\n"
     ]
    },
    {
     "data": {
      "text/html": [
       "\n",
       "<h1>Your score is 3 out of 4\n",
       "Your rate is 75.0! Good Job.</h1>"
      ],
      "text/plain": [
       "<IPython.core.display.HTML object>"
      ]
     },
     "metadata": {},
     "output_type": "display_data"
    }
   ],
   "source": [
    "# import format output\n",
    "from IPython.display import display, HTML\n",
    "display(HTML('<h1>Guess the Movie Quiz</h1>'))\n",
    "    \n",
    "# function to check scores\n",
    "def check_answers(answers, corrects):\n",
    "    score = 0\n",
    "\n",
    "    for i in range(min(len(answers), len(corrects))):\n",
    "        if answers[i].upper() == corrects[i].upper():\n",
    "            score += 1\n",
    "\n",
    "    rate = (score / 4) * 100\n",
    "\n",
    "    if rate == 100:\n",
    "        comment = \"PERFECT!\"\n",
    "    elif rate < 100 and rate >= 75:\n",
    "        comment = \"Good Job.\"\n",
    "    else:\n",
    "        comment = \"You failed.\"\n",
    "\n",
    "    return [score, rate, comment]\n",
    "\n",
    "# start of variables\n",
    "eol = \"\\n\"  \n",
    "username = input(\"Hey there! Enter your name to play:\")\n",
    "question_num = 1\n",
    "answers = []\n",
    "corrects = []\n",
    "questions = [\n",
    "             ('🌊🧔🔱🐟', 'a. 2012' + eol + 'b. Aquaman' + eol + 'c. Oceans 11' + eol, 'b'),\n",
    "             ('👨‍🦱👴🏎️⌚', 'a. Back to the Future' + eol + 'b. Rush Hour' + eol + 'c. The Curious Case of Benjamin Button' + eol, 'a'), \n",
    "             ('🏰👩👩‍🦳❄️☃️', 'a. Frozen' + eol + 'b. Anastacia' + eol + 'c. Jack Frost' + eol, 'a'), \n",
    "             ('🌊1️⃣1️⃣', 'a. 2012' + eol + 'b. Little Mermaid' + eol + 'c. Oceans 11' + eol, 'c')\n",
    "            ]\n",
    "\n",
    "# username is required to play\n",
    "while username == \"\":\n",
    "    username = input(\"Hey there! Enter your name to play:\")\n",
    "\n",
    "# loops and user input\n",
    "if username != \"\":\n",
    "    print(eol + \"Hi \" + str(username.title()) + \"! Enter the letter of your answer.\" +eol)\n",
    "\n",
    "# game play\n",
    "while len(answers) != len(questions):\n",
    "    for question, options, correct_answers in questions:\n",
    "        print(eol + \"Guess the movie #\" + str(question_num))\n",
    "        display(HTML('<span style=\"font-size: 5rem;\">' + question + '</span>'))\n",
    "\n",
    "        answer = input(str(options))\n",
    "        answers.append(answer)\n",
    "        corrects.append(correct_answers)\n",
    "        question_num += 1\n",
    "\n",
    "# game result \n",
    "result = check_answers(answers, corrects)\n",
    "score =  result[0]\n",
    "rate = result[1]\n",
    "comment = result[2]\n",
    "display(HTML(eol + \"<h1>Your score is \" + str(score) + \" out of 4\" + eol + \"Your rate is \" + str(rate) + \"! \" + str(comment) + \"</h1>\"))\n",
    "\n",
    "\n"
   ]
  }
 ],
 "metadata": {
  "kernelspec": {
   "display_name": "Python 3",
   "language": "python",
   "name": "python3"
  },
  "language_info": {
   "codemirror_mode": {
    "name": "ipython",
    "version": 3
   },
   "file_extension": ".py",
   "mimetype": "text/x-python",
   "name": "python",
   "nbconvert_exporter": "python",
   "pygments_lexer": "ipython3",
   "version": "3.8.3"
  }
 },
 "nbformat": 4,
 "nbformat_minor": 4
}
