{
 "cells": [
  {
   "cell_type": "code",
   "execution_count": null,
   "metadata": {
    "colab": {},
    "colab_type": "code",
    "id": "KTzDpZpyaTed"
   },
   "outputs": [],
   "source": [
    "import emoji\n"
   ]
  },
  {
   "cell_type": "markdown",
   "metadata": {
    "colab_type": "text",
    "id": "UPne4-0aREbR"
   },
   "source": [
    "\n",
    "# Welcome to my **`DS Adventure`**!\n",
    "> #### Today, I will explore *Jupyter, Spyder & Colab*. I'll try to follow all instructions given by FTW as best as I can. Wish me luck. 🤞"
   ]
  },
  {
   "cell_type": "markdown",
   "metadata": {
    "colab_type": "text",
    "id": "Ath0WVGGfvU-"
   },
   "source": [
    "\n",
    "### ~~My Tasks~~\n",
    "1. Follow guide doc and do my code-along\n",
    "1. Create a blog regarding my code-along and include the Github link\n",
    "1. Submit the Github and blog link in MyCamu\n",
    "\n",
    "Random image from Google/Kindpng: ![anime girl enjoying what I hope to be coffee](https://www.kindpng.com/picc/m/14-149335_kawaii-cute-anime-girl-hd-png-download.png)\n",
    "\n",
    "\n",
    "### Let's start typing!\n",
    "\n",
    "* $y = x^2$\n",
    "* $e^{i\\pi} +1 = 0$\n",
    "* $e^x=\\sum_{i=0}^\\infty \\frac {1}{i!}x^i$\n",
    "* $\\frac{n!}{k!(n-k)!} = {n \\choose k}$\n",
    "* $A_{m,n} = \n",
    "  \\begin{pmatrix}\n",
    "   a_{1,1} & a_{1,2} & \\cdots & a_{1,n} \\\\\n",
    "   a_{2,1} & a_{2,2} & \\cdots & a_{2,n} \\\\\n",
    "  \\end{pmatrix}$\n",
    "\n",
    "\n",
    "First Column | Second Column\n",
    ":---: | :---:\n",
    "Proud | To\n",
    "Be | Weird\n",
    "\n",
    "---\n",
    "\n",
    "### $\\color{blue}{\\text{My take-aways for Markdown!}}$\n",
    "\n",
    "* add `$` before and after if it needs to be a formula\n",
    "* use `^` for exponents\n",
    "* `\\begin{pmatrix}` to start matrix \n",
    "* `\\end{pmatrix}` to end matrix\n",
    "* `:---:` center align text in table columns\n",
    "* tried to import emojis 🤣\n",
    "\n",
    "---\n",
    "\n",
    "\n"
   ]
  },
  {
   "cell_type": "code",
   "execution_count": 8,
   "metadata": {
    "colab": {
     "base_uri": "https://localhost:8080/",
     "height": 110,
     "resources": {
      "http://localhost:8080/nbextensions/google.colab/files.js": {
       "data": "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",
       "headers": [
        [
         "content-type",
         "application/javascript"
        ]
       ],
       "ok": true,
       "status": 200,
       "status_text": ""
      }
     }
    },
    "colab_type": "code",
    "id": "nFUoNnoXgW3s",
    "outputId": "02d9dbd2-6223-4be6-908b-86b6545f1c35"
   },
   "outputs": [
    {
     "data": {
      "text/html": [
       "\n",
       "     <input type=\"file\" id=\"files-cb42bf75-17e3-4b7f-b861-eb21e3116883\" name=\"files[]\" multiple disabled\n",
       "        style=\"border:none\" />\n",
       "     <output id=\"result-cb42bf75-17e3-4b7f-b861-eb21e3116883\">\n",
       "      Upload widget is only available when the cell has been executed in the\n",
       "      current browser session. Please rerun this cell to enable.\n",
       "      </output>\n",
       "      <script src=\"/nbextensions/google.colab/files.js\"></script> "
      ],
      "text/plain": [
       "<IPython.core.display.HTML object>"
      ]
     },
     "metadata": {
      "tags": []
     },
     "output_type": "display_data"
    },
    {
     "name": "stdout",
     "output_type": "stream",
     "text": [
      "Saving starbucks_drinkmenu.csv to starbucks_drinkmenu.csv\n"
     ]
    },
    {
     "data": {
      "text/plain": [
       "{'starbucks_drinkmenu.csv': b'Beverage_category,Beverage,Beverage_prep,Calories, Total Fat (g),Trans Fat (g) ,Saturated Fat (g), Sodium (mg), Total Carbohydrates (g) ,Cholesterol (mg), Dietary Fibre (g), Sugars (g), Protein (g) ,Vitamin A (% DV) ,Vitamin C (% DV), Calcium (% DV) ,Iron (% DV) ,Caffeine (mg)\\nCoffee,Brewed Coffee,Short,3,0.1,0,0,0,5,0,0,0,0.3,0%,0%,0%,0%,175\\nCoffee,Brewed Coffee,Tall,4,0.1,0,0,0,10,0,0,0,0.5,0%,0%,0%,0%,260\\nCoffee,Brewed Coffee,Grande,5,0.1,0,0,0,10,0,0,0,1,0%,0%,0%,0%,330\\nCoffee,Brewed Coffee,Venti,5,0.1,0,0,0,10,0,0,0,1,0%,0%,2%,0%,410\\nClassic Espresso Drinks,Caff\\xc3\\xa8 Latte,Short Nonfat Milk,70,0.1,0.1,0,5,75,10,0,9,6,10%,0%,20%,0%,75\\nClassic Espresso Drinks,Caff\\xc3\\xa8 Latte,2% Milk,100,3.5,2,0.1,15,85,10,0,9,6,10%,0%,20%,0%,75\\nClassic Espresso Drinks,Caff\\xc3\\xa8 Latte,Soymilk,70,2.5,0.4,0,0,65,6,1,4,5,6%,0%,20%,8%,75\\nClassic Espresso Drinks,Caff\\xc3\\xa8 Latte,Tall Nonfat Milk,100,0.2,0.2,0,5,120,15,0,14,10,15%,0%,30%,0%,75\\nClassic Espresso Drinks,Caff\\xc3\\xa8 Latte,2% Milk,150,6,3,0.2,25,135,15,0,14,10,15%,0%,30%,0%,75\\nClassic Espresso Drinks,Caff\\xc3\\xa8 Latte,Soymilk,110,4.5,0.5,0,0,105,10,1,6,8,10%,0%,30%,15%,75\\nClassic Espresso Drinks,Caff\\xc3\\xa8 Latte,Grande Nonfat Milk,130,0.3,0.2,0,5,150,19,0,18,13,20%,0%,40%,0%,150\\nClassic Espresso Drinks,Caff\\xc3\\xa8 Latte,2% Milk,190,7,3.5,0.2,30,170,19,0,17,12,20%,2%,40%,0%,150\\nClassic Espresso Drinks,Caff\\xc3\\xa8 Latte,Soymilk,150,5,0.5,0,0,130,13,1,8,10,15%,0%,40%,15%,150\\nClassic Espresso Drinks,Caff\\xc3\\xa8 Latte,Venti Nonfat Milk,170,0.4,0.3,0,10,190,25,0,23,16,30%,0%,50%,0%,150\\nClassic Espresso Drinks,Caff\\xc3\\xa8 Latte,2% Milk,240,9,4.5,0.3,35,220,24,0,22,16,25%,2%,50%,0%,150\\nClassic Espresso Drinks,Caff\\xc3\\xa8 Latte,Soymilk,190,7,1,0,0,170,16,2,11,13,20%,0%,50%,25%,150\\nClassic Espresso Drinks,Caff\\xc3\\xa8 Mocha (Without Whipped Cream),Short Nonfat Milk,110,1.5,1,0,5,60,21,1,17,7,8%,0%,15%,10%,85\\nClassic Espresso Drinks,Caff\\xc3\\xa8 Mocha (Without Whipped Cream),2% Milk,130,4,2,0.1,10,70,21,1,17,6,8%,0%,15%,10%,85\\nClassic Espresso Drinks,Caff\\xc3\\xa8 Mocha (Without Whipped Cream),Soymilk,110,3.5,1,0,0,55,19,2,13,6,6%,0%,15%,20%,85\\nClassic Espresso Drinks,Caff\\xc3\\xa8 Mocha (Without Whipped Cream),Tall Nonfat Milk,170,2,1,0,5,100,32,1,27,10,15%,0%,25%,20%,95\\nClassic Espresso Drinks,Caff\\xc3\\xa8 Mocha (Without Whipped Cream),2% Milk,200,6,3.5,0.1,20,115,32,1,26,10,15%,0%,25%,20%,95\\nClassic Espresso Drinks,Caff\\xc3\\xa8 Mocha (Without Whipped Cream),Soymilk,180,5,1.5,0,0,85,28,2,20,9,10%,0%,25%,30%,95\\nClassic Espresso Drinks,Caff\\xc3\\xa8 Mocha (Without Whipped Cream),Grande Nonfat Milk,220,2.5,1.5,0,5,125,43,2,34,13,20%,0%,35%,25%,175\\nClassic Espresso Drinks,Caff\\xc3\\xa8 Mocha (Without Whipped Cream),2% Milk,260,8,4.5,0.2,25,140,42,2,34,13,15%,2%,35%,25%,175\\nClassic Espresso Drinks,Caff\\xc3\\xa8 Mocha (Without Whipped Cream),Soymilk,230,7,2,0,0,105,37,3,26,11,10%,0%,35%,40%,175\\nClassic Espresso Drinks,Caff\\xc3\\xa8 Mocha (Without Whipped Cream),Venti Nonfat Milk,280,3,2,0,10,160,54,2,44,17,25%,0%,45%,30%,180\\nClassic Espresso Drinks,Caff\\xc3\\xa8 Mocha (Without Whipped Cream),2% Milk,340,11,6,0.2,30,180,53,2,43,17,20%,2%,45%,30%,180\\nClassic Espresso Drinks,Caff\\xc3\\xa8 Mocha (Without Whipped Cream),Soymilk,290,9,2.5,0,0,140,47,4,33,14,15%,0%,45%,50%,180\\nClassic Espresso Drinks,Vanilla Latte (Or Other Flavoured Latte),Short Nonfat Milk,100,0.1,0.1,0,5,70,19,0,18,6,10%,0%,20%,0%,75\\nClassic Espresso Drinks,Vanilla Latte (Or Other Flavoured Latte),2% Milk,130,3.5,1.5,0.1,15,80,18,0,17,6,10%,0%,20%,0%,75\\nClassic Espresso Drinks,Vanilla Latte (Or Other Flavoured Latte),Soymilk,110,2.5,0.3,0,0,60,16,1,13,5,6%,0%,20%,8%,75\\nClassic Espresso Drinks,Vanilla Latte (Or Other Flavoured Latte),Tall Nonfat Milk,150,0.2,0.1,0,5,110,28,0,27,9,15%,0%,30%,0%,75\\nClassic Espresso Drinks,Vanilla Latte (Or Other Flavoured Latte),2% Milk,200,5,2.5,0.2,20,125,28,0,27,9,15%,0%,30%,0%,75\\nClassic Espresso Drinks,Vanilla Latte (Or Other Flavoured Latte),Soymilk,160,4,0.5,0,0,95,23,1,20,7,10%,0%,30%,15%,75\\nClassic Espresso Drinks,Vanilla Latte (Or Other Flavoured Latte),Grande Nonfat Milk,200,0.3,0.2,0,5,140,37,0,35,12,20%,0%,35%,0%,150\\nClassic Espresso Drinks,Vanilla Latte (Or Other Flavoured Latte),2% Milk,250,6,3.5,0.2,25,150,37,0,35,12,20%,2%,35%,0%,150\\nClassic Espresso Drinks,Vanilla Latte (Or Other Flavoured Latte),Soymilk,210,5,0.5,0,0,120,31,1,26,9,10%,0%,35%,15%,150\\nClassic Espresso Drinks,Vanilla Latte (Or Other Flavoured Latte),Venti Nonfat Milk,250,0.3,0.2,0,10,180,47,0,45,15,25%,0%,50%,0%,150\\nClassic Espresso Drinks,Vanilla Latte (Or Other Flavoured Latte),2% Milk,320,9,4.5,0.3,35,200,46,0,44,15,25%,2%,45%,0%,150\\nClassic Espresso Drinks,Vanilla Latte (Or Other Flavoured Latte),Soymilk,270,7,1,0,0,160,39,2,33,12,15%,0%,45%,20%,150\\nClassic Espresso Drinks,Caff\\xc3\\xa8 Americano,Short,5,0,0,0,0,5,1,0,0,0.4,0%,0%,0%,0%,75\\nClassic Espresso Drinks,Caff\\xc3\\xa8 Americano,Tall,10,0,0,0,0,10,2,0,0,1,0%,0%,2%,0%,150\\nClassic Espresso Drinks,Caff\\xc3\\xa8 Americano,Grande,15,0,0,0,0,15,3,0,0,1,0%,0%,2%,0%,225\\nClassic Espresso Drinks,Caff\\xc3\\xa8 Americano,Venti,25,0,0,0,0,15,4,0,0,1,0%,0%,2%,0%,300\\nClassic Espresso Drinks,Cappuccino,Short Nonfat Milk,50,0.1,0.1,0,5,60,8,0,7,5,8%,0%,15%,0%,75\\nClassic Espresso Drinks,Cappuccino,2% Milk,80,3,1.5,0.1,10,70,8,0,7,5,8%,0%,15%,0%,75\\nClassic Espresso Drinks,Cappuccino,Soymilk,50,1.5,0.2,0,0,40,4,0,3,3,4%,0%,10%,6%,75\\nClassic Espresso Drinks,Cappuccino,Tall Nonfat Milk,60,0.1,0.1,0,5,70,9,0,8,6,10%,0%,20%,0%,75\\nClassic Espresso Drinks,Cappuccino,2% Milk,90,3.5,1.5,0.1,15,80,9,0,8,6,10%,0%,20%,0%,75\\nClassic Espresso Drinks,Cappuccino,Soymilk,70,3,0.4,0,0,65,7,1,4,5,6%,0%,20%,8%,75\\nClassic Espresso Drinks,Cappuccino,Grande Nonfat Milk,80,0.2,0.1,0,5,90,12,0,10,8,15%,0%,25%,0%,150\\nClassic Espresso Drinks,Cappuccino,2% Milk,120,4,2,0.1,15,100,12,0,10,8,10%,0%,25%,0%,150\\nClassic Espresso Drinks,Cappuccino,Soymilk,100,3.5,0.4,0,0,80,9,1,5,7,8%,0%,25%,10%,150\\nClassic Espresso Drinks,Cappuccino,Venti Nonfat Milk,110,0.2,0.2,0,5,120,16,0,14,10,20%,0%,30%,0%,150\\nClassic Espresso Drinks,Cappuccino,2% Milk,150,6,3,0.2,25,135,16,0,14,10,15%,0%,30%,0%,150\\nClassic Espresso Drinks,Cappuccino,Soymilk,120,4.5,0.5,0,0,110,11,1,7,9,10%,0%,35%,15%,150\\nClassic Espresso Drinks,Espresso,Solo,5,0,0,0,0,0,1,0,0,0.4,0%,0%,0%,0%,75\\nClassic Espresso Drinks,Espresso,Doppio,10,0,0,0,0,1,2,0,0,1,0%,0%,0%,0%,150\\nClassic Espresso Drinks,Skinny Latte (Any Flavour),Short Nonfat Milk,60,0.1,0.1,0,5,80,9,0,8,6,10%,0%,20%,0%,75\\nClassic Espresso Drinks,Skinny Latte (Any Flavour),Tall Nonfat Milk,100,0.2,0.1,0,5,125,14,0,13,9,15%,0%,30%,0%,75\\nClassic Espresso Drinks,Skinny Latte (Any Flavour),Grande Nonfat Milk,120,0.3,0.2,0,5,160,18,0,16,12,20%,0%,35%,0%,150\\nClassic Espresso Drinks,Skinny Latte (Any Flavour),Venti Nonfat Milk,160,0.3,0.2,0,10,200,24,0,21,15,25%,0%,50%,0%,150\\nSignature Espresso Drinks,Caramel Macchiato,Short Nonfat Milk,100,1,0.5,0,5,70,17,0,15,6,10%,0%,15%,0%,75\\nSignature Espresso Drinks,Caramel Macchiato,2% Milk,120,4,2,0.1,15,80,16,0,15,5,10%,0%,15%,0%,75\\nSignature Espresso Drinks,Caramel Macchiato,Soymilk,100,3,1,0,0,60,14,1,11,4,6%,0%,15%,8%,75\\nSignature Espresso Drinks,Caramel Macchiato,Tall Nonfat Milk,140,1,0.5,0,5,105,25,0,24,8,15%,0%,25%,0%,75\\nSignature Espresso Drinks,Caramel Macchiato,2% Milk,180,5,3,0.1,20,115,25,0,23,8,15%,0%,25%,0%,75\\nSignature Espresso Drinks,Caramel Macchiato,Soymilk,150,4.5,1,0,0,90,21,1,17,7,10%,0%,25%,10%,75\\nSignature Espresso Drinks,Caramel Macchiato,Grande Nonfat Milk,190,1,1,0,10,130,35,0,32,11,20%,0%,35%,0%,150\\nSignature Espresso Drinks,Caramel Macchiato,2% Milk,240,7,3.5,0.2,25,150,34,0,32,10,15%,2%,30%,0%,150\\nSignature Espresso Drinks,Caramel Macchiato,Soymilk,200,5,1,0,5,115,29,1,24,9,10%,0%,35%,15%,150\\nSignature Espresso Drinks,Caramel Macchiato,Venti Nonfat Milk,240,1,1,0,10,170,43,0,41,13,25%,0%,40%,0%,150\\nSignature Espresso Drinks,Caramel Macchiato,2% Milk,300,8,4.5,0.2,35,180,43,0,40,13,20%,2%,40%,0%,150\\nSignature Espresso Drinks,Caramel Macchiato,Soymilk,250,7,1.5,0,5,140,36,1,31,11,15%,0%,40%,20%,150\\nSignature Espresso Drinks,White Chocolate Mocha (Without Whipped Cream),Short Nonfat Milk,180,3,2,0,5,120,31,0,29,7,10%,0%,25%,0%,75\\nSignature Espresso Drinks,White Chocolate Mocha (Without Whipped Cream),2% Milk,200,6,3.5,0.1,15,125,31,0,29,7,8%,2%,25%,0%,75\\nSignature Espresso Drinks,White Chocolate Mocha (Without Whipped Cream),Soymilk,180,5,2.5,0,0,110,28,1,25,6,6%,0%,25%,8%,75\\nSignature Espresso Drinks,White Chocolate Mocha (Without Whipped Cream),Tall Nonfat Milk,270,4.5,3.5,0,5,190,47,0,45,12,15%,2%,35%,0%,75\\nSignature Espresso Drinks,White Chocolate Mocha (Without Whipped Cream),2% Milk,310,9,6,0.1,20,200,46,0,44,11,15%,2%,35%,0%,75\\nSignature Espresso Drinks,White Chocolate Mocha (Without Whipped Cream),Soymilk,280,8,3.5,0,0,170,42,1,39,10,10%,2%,35%,10%,75\\nSignature Espresso Drinks,White Chocolate Mocha (Without Whipped Cream),Grande Nonfat Milk,350,6,4.5,0,10,240,61,0,58,15,20%,2%,45%,2%,150\\nSignature Espresso Drinks,White Chocolate Mocha (Without Whipped Cream),2% Milk,400,11,7,0.2,25,250,61,0,58,15,15%,2%,45%,0%,150\\nSignature Espresso Drinks,White Chocolate Mocha (Without Whipped Cream),Soymilk,370,10,5,0,0,220,56,1,51,13,10%,2%,45%,15%,150\\nSignature Espresso Drinks,White Chocolate Mocha (Without Whipped Cream),Venti Nonfat Milk,450,7,6,0,10,310,78,0,74,19,25%,2%,60%,2%,150\\nSignature Espresso Drinks,White Chocolate Mocha (Without Whipped Cream),2% Milk,510,15,9,0.2,35,330,77,0,74,19,20%,4%,60%,2%,150\\nSignature Espresso Drinks,White Chocolate Mocha (Without Whipped Cream),Soymilk,460,13,6,0,5,290,70,1,64,16,15%,2%,60%,20%,150\\nSignature Espresso Drinks,Hot Chocolate (Without Whipped Cream),Short Nonfat Milk,130,1.5,1,0,5,70,26,1,23,7,10%,0%,20%,10%,10\\nSignature Espresso Drinks,Hot Chocolate (Without Whipped Cream),2% Milk,150,4.5,2.5,0.1,15,80,26,1,22,7,10%,0%,20%,10%,10\\nSignature Espresso Drinks,Hot Chocolate (Without Whipped Cream),Soymilk,130,3.5,1,0,0,60,23,2,18,6,6%,0%,20%,20%,10\\nSignature Espresso Drinks,Hot Chocolate (Without Whipped Cream),Tall Nonfat Milk,190,2,1,0,5,110,37,1,32,11,15%,0%,30%,20%,20\\nSignature Espresso Drinks,Hot Chocolate (Without Whipped Cream),2% Milk,230,7,3.5,0.2,20,120,37,1,32,10,15%,0%,30%,20%,20\\nSignature Espresso Drinks,Hot Chocolate (Without Whipped Cream),Soymilk,200,6,1.5,0,0,95,32,2,25,9,10%,0%,30%,30%,20\\nSignature Espresso Drinks,Hot Chocolate (Without Whipped Cream),Grande Nonfat Milk,240,2.5,1.5,0,5,140,48,2,41,14,20%,0%,40%,25%,25\\nSignature Espresso Drinks,Hot Chocolate (Without Whipped Cream),2% Milk,290,9,5,0.2,25,160,47,2,41,14,20%,2%,40%,25%,25\\nSignature Espresso Drinks,Hot Chocolate (Without Whipped Cream),Soymilk,250,7,2,0,0,125,41,3,32,12,15%,0%,40%,40%,25\\nSignature Espresso Drinks,Hot Chocolate (Without Whipped Cream),Venti Nonfat Milk,320,3,2,0,10,180,63,2,55,18,25%,0%,50%,30%,30\\nSignature Espresso Drinks,Hot Chocolate (Without Whipped Cream),2% Milk,380,11,6,0.3,35,200,63,2,54,17,25%,2%,50%,30%,30\\nSignature Espresso Drinks,Hot Chocolate (Without Whipped Cream),Soymilk,330,9,2.5,0,0,160,55,4,44,15,15%,0%,50%,50%,30\\nSignature Espresso Drinks,Caramel Apple Spice (Without Whipped Cream),Short,140,0,0,0,0,10,35,0,33,0,0%,0%,0%,0%,0\\nSignature Espresso Drinks,Caramel Apple Spice (Without Whipped Cream),Tall,210,0,0,0,0,15,53,0,49,0,0%,0%,0%,0%,0\\nSignature Espresso Drinks,Caramel Apple Spice (Without Whipped Cream),Grande,280,0,0,0,0,20,70,0,65,0,0%,0%,0%,0%,0\\nSignature Espresso Drinks,Caramel Apple Spice (Without Whipped Cream),Venti,360,0,0,0,0,25,89,0,83,0,0%,0%,0%,0%,0\\nTazo\\xc2\\xae Tea Drinks,Tazo\\xc2\\xae Tea,Short,0,0,0,0,0,0,0,0,0,0,0%,0%,0%,0%,Varies\\nTazo\\xc2\\xae Tea Drinks,Tazo\\xc2\\xae Tea,Tall,0,0,0,0,0,0,0,0,0,0,0%,0%,0%,0%,Varies\\nTazo\\xc2\\xae Tea Drinks,Tazo\\xc2\\xae Tea,Grande,0,0,0,0,0,0,0,0,0,0,0%,0%,0%,0%,Varies\\nTazo\\xc2\\xae Tea Drinks,Tazo\\xc2\\xae Tea,Venti,0,0,0,0,0,0,0,0,0,0,0%,0%,0%,0%,Varies\\nTazo\\xc2\\xae Tea Drinks,Tazo\\xc2\\xae Chai Tea Latte,Short Nonfat Milk,100,0.1,0.1,0,0,50,22,0,21,4,6%,0%,10%,0%,50\\nTazo\\xc2\\xae Tea Drinks,Tazo\\xc2\\xae Chai Tea Latte,2% Milk,120,2,1,0.1,10,55,22,0,21,4,6%,0%,10%,0%,50\\nTazo\\xc2\\xae Tea Drinks,Tazo\\xc2\\xae Chai Tea Latte,Soymilk,110,1.5,0.2,0,0,45,20,0,18,3,4%,0%,10%,6%,50\\nTazo\\xc2\\xae Tea Drinks,Tazo\\xc2\\xae Chai Tea Latte,Tall Nonfat Milk,160,0.2,0.1,0,5,80,34,0,32,6,10%,0%,20%,2%,70\\nTazo\\xc2\\xae Tea Drinks,Tazo\\xc2\\xae Chai Tea Latte,2% Milk,190,3.5,1.5,0.1,15,90,34,0,32,6,10%,0%,20%,2%,70\\nTazo\\xc2\\xae Tea Drinks,Tazo\\xc2\\xae Chai Tea Latte,Soymilk,160,2.5,0.3,0,0,70,31,1,28,5,6%,0%,20%,10%,70\\nTazo\\xc2\\xae Tea Drinks,Tazo\\xc2\\xae Chai Tea Latte,Grande Nonfat Milk,210,0.2,0.1,0,5,105,45,0,43,8,15%,0%,25%,2%,95\\nTazo\\xc2\\xae Tea Drinks,Tazo\\xc2\\xae Chai Tea Latte,2% Milk,240,4.5,2,0.1,20,115,45,0,42,8,10%,0%,25%,2%,95\\nTazo\\xc2\\xae Tea Drinks,Tazo\\xc2\\xae Chai Tea Latte,Soymilk,220,3.5,0.4,0,0,90,41,1,37,6,8%,0%,25%,10%,95\\nTazo\\xc2\\xae Tea Drinks,Tazo\\xc2\\xae Chai Tea Latte,Venti Nonfat Milk,260,0.3,0.2,0,5,135,57,0,54,10,15%,0%,35%,2%,120\\nTazo\\xc2\\xae Tea Drinks,Tazo\\xc2\\xae Chai Tea Latte,2% Milk,310,6,3,0.2,25,150,56,0,53,10,15%,2%,30%,2%,120\\nTazo\\xc2\\xae Tea Drinks,Tazo\\xc2\\xae Chai Tea Latte,Soymilk,280,4.5,0.5,0,0,115,51,1,46,8,10%,0%,30%,15%,120\\nTazo\\xc2\\xae Tea Drinks,Tazo\\xc2\\xae Green Tea Latte,Short Nonfat Milk,130,0.2,0.1,0,5,85,26,0,25,7,10%,4%,20%,2%,25\\nTazo\\xc2\\xae Tea Drinks,Tazo\\xc2\\xae Green Tea Latte,2% Milk,170,4,2,0.1,15,95,26,0,25,7,10%,6%,20%,2%,25\\nTazo\\xc2\\xae Tea Drinks,Tazo\\xc2\\xae Green Tea Latte,Soymilk,140,3,0.4,0,0,70,22,1,20,6,8%,4%,20%,10%,25\\nTazo\\xc2\\xae Tea Drinks,Tazo\\xc2\\xae Green Tea Latte,Tall Nonfat Milk,210,0.4,0.2,0,5,125,42,1,41,11,20%,10%,35%,4%,55\\nTazo\\xc2\\xae Tea Drinks,Tazo\\xc2\\xae Green Tea Latte,2% Milk,260,6,3,0.2,25,140,41,1,40,10,15%,10%,35%,4%,55\\nTazo\\xc2\\xae Tea Drinks,Tazo\\xc2\\xae Green Tea Latte,Soymilk,230,4.5,0.5,0,0,110,36,2,33,9,10%,10%,35%,15%,55\\nTazo\\xc2\\xae Tea Drinks,Tazo\\xc2\\xae Green Tea Latte,Grande Nonfat Milk,290,0.5,0.2,0,10,160,57,1,56,14,25%,15%,45%,4%,80\\nTazo\\xc2\\xae Tea Drinks,Tazo\\xc2\\xae Green Tea Latte,2% Milk,350,8,4,0.2,30,180,57,1,55,14,20%,15%,45%,4%,80\\nTazo\\xc2\\xae Tea Drinks,Tazo\\xc2\\xae Green Tea Latte,Soymilk,310,6,1,0,0,140,50,3,46,11,15%,15%,45%,25%,80\\nTazo\\xc2\\xae Tea Drinks,Tazo\\xc2\\xae Green Tea Latte,Venti Nonfat Milk,370,0.5,0.3,0,10,200,73,2,71,18,30%,20%,60%,6%,110\\nTazo\\xc2\\xae Tea Drinks,Tazo\\xc2\\xae Green Tea Latte,2% Milk,450,10,5,0.3,40,230,72,2,71,17,25%,20%,50%,6%,110\\nTazo\\xc2\\xae Tea Drinks,Tazo\\xc2\\xae Green Tea Latte,Soymilk,390,8,1,0,0,180,64,4,58,14,20%,20%,60%,30%,110\\nTazo\\xc2\\xae Tea Drinks,Tazo\\xc2\\xae Full-Leaf Tea Latte,Short Nonfat Milk,80,0.1,0.1,0,0,45,16,0,16,4,6%,0%,10%,0.00%,varies\\nTazo\\xc2\\xae Tea Drinks,Tazo\\xc2\\xae Full-Leaf Tea Latte,2% Milk,90,2,1,0.1,10,50,15,0,15,3,6%,0%,10%,0.00%,varies\\nTazo\\xc2\\xae Tea Drinks,Tazo\\xc2\\xae Full-Leaf Tea Latte,Soymilk,80,1.5,0.2,0,0,40,14,0,13,3,4%,0%,10%,6.00%,varies\\nTazo\\xc2\\xae Tea Drinks,Tazo\\xc2\\xae Full-Leaf Tea Latte,Tall Nonfat Milk,120,0.1,0.1,0,5,65,23,0,23,5,10%,0%,20%,0.00%,varies\\nTazo\\xc2\\xae Tea Drinks,Tazo\\xc2\\xae Full-Leaf Tea Latte,2% Milk,140,3,1.5,0.1,15,75,23,0,23,5,8%,0%,15%,0.00%,varies\\nTazo\\xc2\\xae Tea Drinks,Tazo\\xc2\\xae Full-Leaf Tea Latte,Soymilk,130,2.5,0.3,0,0,60,21,1,19,4,6%,0%,20%,8.00%,varies\\nTazo\\xc2\\xae Tea Drinks,Tazo\\xc2\\xae Full-Leaf Tea Latte,Grande Nonfat Milk,150,0.2,0.1,0,5,85,31,0,31,7,15%,0%,25%,0.00%,varies\\nTazo\\xc2\\xae Tea Drinks,Tazo\\xc2\\xae Full-Leaf Tea Latte,2% Milk,190,4,2,0.1,15,95,31,0,30,7,10%,0%,25%,0.00%,varies\\nTazo\\xc2\\xae Tea Drinks,Tazo\\xc2\\xae Full-Leaf Tea Latte,Soymilk,170,3.5,0.4,0,0,80,27,1,25,6,8%,0%,25%,10.00%,varies\\nTazo\\xc2\\xae Tea Drinks,Tazo\\xc2\\xae Full-Leaf Tea Latte,Venti Nonfat Milk,190,0.2,0.1,0,5,110,39,0,39,9,15%,0%,30%,0.00%,varies\\nTazo\\xc2\\xae Tea Drinks,Tazo\\xc2\\xae Full-Leaf Tea Latte,2% Milk,230,5,2.5,0.2,20,125,38,0,38,9,15%,0%,30%,0.00%,varies\\nTazo\\xc2\\xae Tea Drinks,Tazo\\xc2\\xae Full-Leaf Tea Latte,Soymilk,210,4,0.5,0,0,100,34,1,32,7,10%,0%,30%,15.00%,varies\\nTazo\\xc2\\xae Tea Drinks,Tazo\\xc2\\xae Full-Leaf Red Tea Latte (Vanilla Rooibos),Short Nonfat Milk,80,0.1,0.1,0,0,45,16,0,16,4,6%,0%,10%,0%,0\\nTazo\\xc2\\xae Tea Drinks,Tazo\\xc2\\xae Full-Leaf Red Tea Latte (Vanilla Rooibos),2% Milk,90,2,1,0.1,10,50,15,0,15,3,6%,0%,10%,0%,0\\nTazo\\xc2\\xae Tea Drinks,Tazo\\xc2\\xae Full-Leaf Red Tea Latte (Vanilla Rooibos),Soymilk,80,1.5,0.2,0,0,40,14,0,13,3,4%,0%,10%,6%,0\\nTazo\\xc2\\xae Tea Drinks,Tazo\\xc2\\xae Full-Leaf Red Tea Latte (Vanilla Rooibos),Tall Nonfat Milk,120,0.1,0.1,0,5,65,23,0,23,5,10%,0%,20%,0%,0\\nTazo\\xc2\\xae Tea Drinks,Tazo\\xc2\\xae Full-Leaf Red Tea Latte (Vanilla Rooibos),2% Milk,140,3,1.5,0.1,15,75,23,0,23,5,8%,0%,15%,0%,0\\nTazo\\xc2\\xae Tea Drinks,Tazo\\xc2\\xae Full-Leaf Red Tea Latte (Vanilla Rooibos),Soymilk,130,2.5,0.3,0,0,60,21,1,19,4,6%,0%,20%,8%,0\\nTazo\\xc2\\xae Tea Drinks,Tazo\\xc2\\xae Full-Leaf Red Tea Latte (Vanilla Rooibos),Grande Nonfat Milk,150,0.2,0.1,0,5,85,31,0,31,7,15%,0%,25%,0%,0\\nTazo\\xc2\\xae Tea Drinks,Tazo\\xc2\\xae Full-Leaf Red Tea Latte (Vanilla Rooibos),2% Milk,190,4,2,0.1,15,95,31,0,30,7,10%,0%,25%,0%,0\\nTazo\\xc2\\xae Tea Drinks,Tazo\\xc2\\xae Full-Leaf Red Tea Latte (Vanilla Rooibos),Soymilk,170,3.5,0.4,0,0,80,27,1,25,6,8%,0%,25%,10%,0\\nTazo\\xc2\\xae Tea Drinks,Tazo\\xc2\\xae Full-Leaf Red Tea Latte (Vanilla Rooibos),Venti Nonfat Milk,190,0.2,0.1,0,5,110,39,0,39,9,15%,0%,30%,0%,0\\nTazo\\xc2\\xae Tea Drinks,Tazo\\xc2\\xae Full-Leaf Red Tea Latte (Vanilla Rooibos),2% Milk,230,5,2.5,0.2,20,125,38,0,38,9,15%,0%,30%,0%,0\\nTazo\\xc2\\xae Tea Drinks,Tazo\\xc2\\xae Full-Leaf Red Tea Latte (Vanilla Rooibos),Soymilk,210,4,0.5,0,0,100,34,1,32,7,10%,0%,30%,15%,0\\nShaken Iced Beverages,Iced Brewed Coffee (With Classic Syrup),Tall,60,0,0,0,0,4,15,0,15,0.2,0%,0%,0%,0%,120\\nShaken Iced Beverages,Iced Brewed Coffee (With Classic Syrup),Grande,90,0.1,0,0,0,5,21,0,21,0.3,0%,0%,0%,0%,165\\nShaken Iced Beverages,Iced Brewed Coffee (With Classic Syrup),Venti,130,0.1,0,0,0,5,31,0,31,0.4,0%,0%,0%,0%,235\\nShaken Iced Beverages,Iced Brewed Coffee (With Milk & Classic Syrup),Tall Nonfat Milk,80,0.1,0,0,0,25,18,0,18,2,2%,0%,6%,0%,90\\nShaken Iced Beverages,Iced Brewed Coffee (With Milk & Classic Syrup),2% Milk,90,1,0.5,0,5,25,18,0,18,2,2%,0%,6%,0.00%,\\nShaken Iced Beverages,Iced Brewed Coffee (With Milk & Classic Syrup),Soymilk,80,1,0.1,0,0,20,17,0,17,2,2%,0%,6%,0%,90\\nShaken Iced Beverages,Iced Brewed Coffee (With Milk & Classic Syrup),Grande Nonfat Milk,110,0.1,0,0,0,30,24,0,24,2,4%,0%,8%,2%,90\\nShaken Iced Beverages,Iced Brewed Coffee (With Milk & Classic Syrup),2% Milk,120,1.5,0.5,0,5,35,24,0,24,2,4%,0%,8%,0%,125\\nShaken Iced Beverages,Iced Brewed Coffee (With Milk & Classic Syrup),Soymilk,110,1,0.1,0,0,30,23,0,22,2,2%,0%,8%,0%,125\\nShaken Iced Beverages,Iced Brewed Coffee (With Milk & Classic Syrup),Venti Nonfat Milk,160,0.1,0.1,0,0,50,36,0,36,4,6%,0%,10%,4%,125\\nShaken Iced Beverages,Iced Brewed Coffee (With Milk & Classic Syrup),2% Milk,180,2,1,0.1,10,55,36,0,36,4,6%,0%,10%,0%,170\\nShaken Iced Beverages,Iced Brewed Coffee (With Milk & Classic Syrup),Soymilk,170,1.5,0.2,0,0,45,34,0,33,3,4%,0%,10%,0%,170\\nShaken Iced Beverages,Shaken Iced Tazo\\xc2\\xae Tea (With Classic Syrup),Tall,60,0,0,0,0,0,15,0,15,0,0%,0%,0%,6%,170\\nShaken Iced Beverages,Shaken Iced Tazo\\xc2\\xae Tea (With Classic Syrup),Grande,80,0,0,0,0,0,21,0,21,0,0%,0%,0%,0%,Varies\\nShaken Iced Beverages,Shaken Iced Tazo\\xc2\\xae Tea (With Classic Syrup),Venti,120,0,0,0,0,0,31,0,31,0,0%,0%,0%,0%,Varies\\nShaken Iced Beverages,Shaken Iced Tazo\\xc2\\xae Tea Lemonade (With Classic Syrup),Tall,100,0,0,0,0,0,25,0,24,0.1,0%,10%,0%,0%,Varies\\nShaken Iced Beverages,Shaken Iced Tazo\\xc2\\xae Tea Lemonade (With Classic Syrup),Grande,130,0,0,0,0,0,33,0,33,0.1,0%,15%,0%,0%,Varies\\nShaken Iced Beverages,Shaken Iced Tazo\\xc2\\xae Tea Lemonade (With Classic Syrup),Venti,190,0,0,0,0,0,49,0,49,0.1,0%,20%,0%,0%,Varies\\nSmoothies,Banana Chocolate Smoothie,Grande Nonfat Milk,280,2.5,1.5,0,5,150,53,7,34,20,10%,15%,20%,0%,Varies\\nSmoothies,Banana Chocolate Smoothie,2% Milk,300,5,2.5,0.1,15,160,53,7,34,20,8%,15%,20%,20%,15\\nSmoothies,Banana Chocolate Smoothie,Soymilk,290,4.5,1.5,0,5,150,51,7,31,19,6%,15%,20%,20%,15\\nSmoothies,Orange Mango Banana Smoothie,Grande Nonfat Milk,260,1,0.3,0,5,120,54,6,37,16,50%,80%,10%,30%,15\\nSmoothies,Orange Mango Banana Smoothie,2% Milk,270,1.5,0.5,0,5,125,53,6,37,16,50%,80%,10%,6%,0\\nSmoothies,Orange Mango Banana Smoothie,Soymilk,270,1.5,0.4,0,5,120,53,6,36,15,50%,80%,10%,6%,0\\nSmoothies,Strawberry Banana Smoothie,Grande Nonfat Milk,290,1,0.3,0,5,125,58,7,41,16,4%,100%,10%,8%,0\\nSmoothies,Strawberry Banana Smoothie,2% Milk,290,2,1,0,5,125,58,7,41,16,4%,100%,10%,8%,0\\nSmoothies,Strawberry Banana Smoothie,Soymilk,290,2,0.4,0,5,120,58,8,40,16,2%,100%,10%,8%,0\\nFrappuccino\\xc2\\xae Blended Coffee,Coffee,Tall Nonfat Milk,160,0.1,0,0,0,160,36,0,36,3,4%,0%,10%,10%,0\\nFrappuccino\\xc2\\xae Blended Coffee,Coffee,Whole Milk,180,2.5,1.5,0.1,10,160,36,0,36,3,4%,0%,8%,0%,70\\nFrappuccino\\xc2\\xae Blended Coffee,Coffee,Soymilk,160,1.5,0.2,0,0,150,35,0,34,2,4%,0%,10%,0%,70\\nFrappuccino\\xc2\\xae Blended Coffee,Coffee,Grande Nonfat Milk,220,0.1,0.1,0,0,210,51,0,50,4,6%,0%,10%,4%,70\\nFrappuccino\\xc2\\xae Blended Coffee,Coffee,Whole Milk,240,3,2,0.1,10,220,50,0,50,3,4%,0%,10%,0%,95\\nFrappuccino\\xc2\\xae Blended Coffee,Coffee,Soymilk,220,1.5,0.2,0,0,210,49,0,47,3,4%,0%,10%,0%,95\\nFrappuccino\\xc2\\xae Blended Coffee,Coffee,Venti Nonfat Milk,310,0.1,0.1,0,5,300,70,0,69,6,10%,0%,20%,6%,95\\nFrappuccino\\xc2\\xae Blended Coffee,Coffee,Whole Milk,350,5,3,0.2,15,300,70,0,69,5,8%,0%,15%,2%,130\\nFrappuccino\\xc2\\xae Blended Coffee,Coffee,Soymilk,310,2.5,0.3,0,0,300,68,1,66,5,6%,0%,20%,2%,130\\nFrappuccino\\xc2\\xae Blended Coffee,Mocha (Without Whipped Cream),Tall Nonfat Milk,180,0.5,0.4,0,0,150,42,1,40,3,4%,0%,10%,8%,130\\nFrappuccino\\xc2\\xae Blended Coffee,Mocha (Without Whipped Cream),Whole Milk,200,3,2,0.1,10,160,42,1,40,3,4%,0%,8%,6%,70\\nFrappuccino\\xc2\\xae Blended Coffee,Mocha (Without Whipped Cream),Soymilk,180,2,0.5,0,0,150,40,1,38,3,4%,0%,10%,10%,70\\nFrappuccino\\xc2\\xae Blended Coffee,Mocha (Without Whipped Cream),Grande Nonfat Milk,260,1,0.5,0,0,220,61,1,58,4,6%,0%,10%,8%,110\\nFrappuccino\\xc2\\xae Blended Coffee,Mocha (Without Whipped Cream),Whole Milk,290,4,2.5,0.1,10,220,61,1,58,4,4%,0%,10%,8%,110\\nFrappuccino\\xc2\\xae Blended Coffee,Mocha (Without Whipped Cream),Soymilk,260,2.5,0.5,0,0,220,59,1,55,4,4%,0%,10%,15%,110\\nFrappuccino\\xc2\\xae Blended Coffee,Mocha (Without Whipped Cream),Venti Nonfat Milk,340,1,0.5,0,5,300,80,1,76,7,10%,0%,15%,10%,140\\nFrappuccino\\xc2\\xae Blended Coffee,Mocha (Without Whipped Cream),Whole Milk,390,6,3.5,0.1,15,300,80,1,76,6,8%,0%,15%,10%,140\\nFrappuccino\\xc2\\xae Blended Coffee,Mocha (Without Whipped Cream),Soymilk,350,3,1,0,0,290,78,2,73,6,6%,0%,20%,20%,140\\nFrappuccino\\xc2\\xae Blended Coffee,Caramel (Without Whipped Cream),Tall Nonfat Milk,180,0.1,0,0,0,160,42,0,41,3,4%,0%,10%,0%,70\\nFrappuccino\\xc2\\xae Blended Coffee,Caramel (Without Whipped Cream),Whole Milk,200,2.5,1.5,0.1,10,160,42,0,41,3,4%,0%,8%,0%,70\\nFrappuccino\\xc2\\xae Blended Coffee,Caramel (Without Whipped Cream),Soymilk,180,1.5,0.2,0,0,150,40,0,39,2,4%,0%,10%,4%,70\\nFrappuccino\\xc2\\xae Blended Coffee,Caramel (Without Whipped Cream),Grande Nonfat Milk,280,0.1,0.1,0,0,220,60,0,59,4,6%,0%,10%,0%,100\\nFrappuccino\\xc2\\xae Blended Coffee,Caramel (Without Whipped Cream),Whole Milk,280,3.5,2,0.1,10,220,60,0,59,3,4%,0%,10%,0%,100\\nFrappuccino\\xc2\\xae Blended Coffee,Caramel (Without Whipped Cream),Soymilk,260,1.5,0.2,0,0,220,58,0,56,3,4%,0%,10%,6%,100\\nFrappuccino\\xc2\\xae Blended Coffee,Caramel (Without Whipped Cream),Venti Nonfat Milk,330,0.1,0.1,0,5,290,78,0,77,5,10%,0%,15%,2%,130\\nFrappuccino\\xc2\\xae Blended Coffee,Caramel (Without Whipped Cream),Whole Milk,370,5,3,0.1,15,300,78,0,77,5,8%,0%,15%,2%,130\\nFrappuccino\\xc2\\xae Blended Coffee,Caramel (Without Whipped Cream),Soymilk,340,2.5,0.3,0,0,290,75,1,73,5,6%,0%,20%,8%,130\\nFrappuccino\\xc2\\xae Blended Coffee,Java Chip (Without Whipped Cream),Tall Nonfat Milk,220,3,2,0,0,170,47,1,44,4,4%,0%,10%,20%,75\\nFrappuccino\\xc2\\xae Blended Coffee,Java Chip (Without Whipped Cream),Whole Milk,240,5,3.5,0.1,10,170,47,1,44,4,4%,0%,8%,20%,75\\nFrappuccino\\xc2\\xae Blended Coffee,Java Chip (Without Whipped Cream),Soymilk,220,4,2.5,0,0,170,45,1,42,3,4%,0%,10%,20%,75\\nFrappuccino\\xc2\\xae Blended Coffee,Java Chip (Without Whipped Cream),Grande Nonfat Milk,310,4,3,0,0,250,67,2,62,5,6%,0%,10%,25%,110\\nFrappuccino\\xc2\\xae Blended Coffee,Java Chip (Without Whipped Cream),Whole Milk,340,7,5,0.1,10,250,67,2,62,5,4%,0%,10%,25%,110\\nFrappuccino\\xc2\\xae Blended Coffee,Java Chip (Without Whipped Cream),Soymilk,310,6,3.5,0,0,240,65,2,60,4,4%,0%,10%,30%,110\\nFrappuccino\\xc2\\xae Blended Coffee,Java Chip (Without Whipped Cream),Venti Nonfat Milk,420,5,4,0,5,340,90,2,84,7,10%,0%,20%,35%,145\\nFrappuccino\\xc2\\xae Blended Coffee,Java Chip (Without Whipped Cream),Whole Milk,460,10,7,0.2,15,340,90,2,84,7,6%,0%,15%,35%,145\\nFrappuccino\\xc2\\xae Blended Coffee,Java Chip (Without Whipped Cream),Soymilk,430,8,4.5,0,0,330,88,3,80,6,6%,0%,20%,40%,145\\nFrappuccino\\xc2\\xae Light Blended Coffee,Coffee,Tall Nonfat Milk,90,0.1,0,0,0,160,20,0,19,3,4%,0%,10%,0%,70\\nFrappuccino\\xc2\\xae Light Blended Coffee,Coffee,Grande Nonfat Milk,120,0.1,0.1,0,0,210,26,0,26,3,6%,0%,10%,0%,95\\nFrappuccino\\xc2\\xae Light Blended Coffee,Coffee,Venti Nonfat Milk,160,0.1,0.1,0,5,270,34,0,33,5,8%,0%,15%,2%,120\\nFrappuccino\\xc2\\xae Light Blended Coffee,Mocha,Tall Nonfat Milk,110,0.5,0.4,0,0,150,24,1,23,3,4%,0%,8%,6%,70\\nFrappuccino\\xc2\\xae Light Blended Coffee,Mocha,Grande Nonfat Milk,150,1,0.5,0,0,200,33,1,30,4,6%,0%,10%,8%,95\\nFrappuccino\\xc2\\xae Light Blended Coffee,Mocha,Venti Nonfat Milk,210,1,0.5,0,5,280,46,1,42,6,8%,0%,15%,10%,130\\nFrappuccino\\xc2\\xae Light Blended Coffee,Caramel,Tall Nonfat Milk,100,0.1,0,0,0,140,23,0,23,3,4%,0%,8%,0%,65\\nFrappuccino\\xc2\\xae Light Blended Coffee,Caramel,Grande Nonfat Milk,150,0.1,0.1,0,0,200,33,0,32,3,6%,0%,10%,0%,90\\nFrappuccino\\xc2\\xae Light Blended Coffee,Caramel,Venti Nonfat Milk,200,0.1,0.1,0,5,270,44,0,43,5,8%,0%,15%,2%,120\\nFrappuccino\\xc2\\xae Light Blended Coffee,Java Chip,Tall Nonfat Milk,150,3,2,0,0,170,30,1,27,4,4%,0%,10%,20%,70\\nFrappuccino\\xc2\\xae Light Blended Coffee,Java Chip,Grande Nonfat Milk,220,4,3,0,0,240,43,2,39,5,6%,0%,10%,25%,105\\nFrappuccino\\xc2\\xae Light Blended Coffee,Java Chip,Venti Nonfat Milk,290,5,4,0,5,320,58,2,52,7,8%,0%,15%,35%,165\\nFrappuccino\\xc2\\xae Blended Cr\\xc3\\xa8me,Strawberries & Cr\\xc3\\xa8me (Without Whipped Cream),Tall Nonfat Milk,170,0.1,0.1,0,0,140,39,0,38,3,6%,6%,10%,2%,0\\nFrappuccino\\xc2\\xae Blended Cr\\xc3\\xa8me,Strawberries & Cr\\xc3\\xa8me (Without Whipped Cream),Whole Milk,190,3,1.5,0.1,10,140,38,0,37,3,4%,6%,10%,2%,0\\nFrappuccino\\xc2\\xae Blended Cr\\xc3\\xa8me,Strawberries & Cr\\xc3\\xa8me (Without Whipped Cream),Soymilk,170,1.5,0.2,0,0,135,37,1,35,3,4%,6%,10%,6%,0\\nFrappuccino\\xc2\\xae Blended Cr\\xc3\\xa8me,Strawberries & Cr\\xc3\\xa8me (Without Whipped Cream),Grande Nonfat Milk,230,0.2,0.1,0,0,190,53,0,52,4,8%,6%,15%,4%,0\\nFrappuccino\\xc2\\xae Blended Cr\\xc3\\xa8me,Strawberries & Cr\\xc3\\xa8me (Without Whipped Cream),Whole Milk,260,4,2,0.1,10,190,53,0,52,4,6%,6%,15%,4%,0\\nFrappuccino\\xc2\\xae Blended Cr\\xc3\\xa8me,Strawberries & Cr\\xc3\\xa8me (Without Whipped Cream),Soymilk,240,2,0.2,0,0,180,51,1,49,3,4%,6%,15%,8%,0\\nFrappuccino\\xc2\\xae Blended Cr\\xc3\\xa8me,Strawberries & Cr\\xc3\\xa8me (Without Whipped Cream),Venti Nonfat Milk,310,0.2,0.1,0,5,260,70,0,69,6,10%,8%,20%,4%,0\\nFrappuccino\\xc2\\xae Blended Cr\\xc3\\xa8me,Strawberries & Cr\\xc3\\xa8me (Without Whipped Cream),Whole Milk,350,6,3,0.2,15,260,70,0,68,6,8%,8%,20%,4%,0\\nFrappuccino\\xc2\\xae Blended Cr\\xc3\\xa8me,Strawberries & Cr\\xc3\\xa8me (Without Whipped Cream),Soymilk,320,3 2,0.4,0,0,250,67,1,64,5,6%,8%,20%,10%,0\\nFrappuccino\\xc2\\xae Blended Cr\\xc3\\xa8me,Vanilla Bean (Without Whipped Cream),Tall Nonfat Milk,170,0.1,0.1,0,0,160,39,0,38,4,6%,0%,10%,0%,0\\nFrappuccino\\xc2\\xae Blended Cr\\xc3\\xa8me,Vanilla Bean (Without Whipped Cream),Whole Milk,200,3.5,2,0.1,10,160,39,0,38,3,6%,0%,10%,0%,0\\nFrappuccino\\xc2\\xae Blended Cr\\xc3\\xa8me,Vanilla Bean (Without Whipped Cream),Soymilk,180,1.5,0.2,0,0,160,37,1,35,3,4%,0%,10%,6%,0\\nFrappuccino\\xc2\\xae Blended Cr\\xc3\\xa8me,Vanilla Bean (Without Whipped Cream),Grande Nonfat Milk,240,0.1,0.1,0,5,230,56,0,55,5,8%,0%,15%,0%,0\\n'}"
      ]
     },
     "execution_count": 8,
     "metadata": {
      "tags": []
     },
     "output_type": "execute_result"
    }
   ],
   "source": [
    "# Heyya, gonna start doing some codes right here. I'm gonna use starbucks dataset just for fun.\n",
    "\n",
    "# import panda and upload my dataset\n",
    "\n",
    "import pandas as pd\n",
    "from google.colab import files \n",
    "files.upload()"
   ]
  },
  {
   "cell_type": "code",
   "execution_count": 37,
   "metadata": {
    "colab": {
     "base_uri": "https://localhost:8080/",
     "height": 284
    },
    "colab_type": "code",
    "id": "fpXI_0tEhbms",
    "outputId": "e9c11de2-f1a7-4e35-f08b-dc9740e5a9c3"
   },
   "outputs": [
    {
     "data": {
      "text/html": [
       "<div>\n",
       "<style scoped>\n",
       "    .dataframe tbody tr th:only-of-type {\n",
       "        vertical-align: middle;\n",
       "    }\n",
       "\n",
       "    .dataframe tbody tr th {\n",
       "        vertical-align: top;\n",
       "    }\n",
       "\n",
       "    .dataframe thead th {\n",
       "        text-align: right;\n",
       "    }\n",
       "</style>\n",
       "<table border=\"1\" class=\"dataframe\">\n",
       "  <thead>\n",
       "    <tr style=\"text-align: right;\">\n",
       "      <th></th>\n",
       "      <th>Calories</th>\n",
       "      <th>Trans Fat (g)</th>\n",
       "      <th>Saturated Fat (g)</th>\n",
       "      <th>Sodium (mg)</th>\n",
       "      <th>Total Carbohydrates (g)</th>\n",
       "      <th>Cholesterol (mg)</th>\n",
       "      <th>Dietary Fibre (g)</th>\n",
       "      <th>Sugars (g)</th>\n",
       "      <th>Protein (g)</th>\n",
       "    </tr>\n",
       "  </thead>\n",
       "  <tbody>\n",
       "    <tr>\n",
       "      <th>count</th>\n",
       "      <td>242.000000</td>\n",
       "      <td>242.000000</td>\n",
       "      <td>242.000000</td>\n",
       "      <td>242.000000</td>\n",
       "      <td>242.000000</td>\n",
       "      <td>242.000000</td>\n",
       "      <td>242.000000</td>\n",
       "      <td>242.000000</td>\n",
       "      <td>242.000000</td>\n",
       "    </tr>\n",
       "    <tr>\n",
       "      <th>mean</th>\n",
       "      <td>193.871901</td>\n",
       "      <td>1.307025</td>\n",
       "      <td>0.037603</td>\n",
       "      <td>6.363636</td>\n",
       "      <td>128.884298</td>\n",
       "      <td>35.991736</td>\n",
       "      <td>0.805785</td>\n",
       "      <td>32.962810</td>\n",
       "      <td>6.978512</td>\n",
       "    </tr>\n",
       "    <tr>\n",
       "      <th>std</th>\n",
       "      <td>102.863303</td>\n",
       "      <td>1.640259</td>\n",
       "      <td>0.071377</td>\n",
       "      <td>8.630257</td>\n",
       "      <td>82.303223</td>\n",
       "      <td>20.795186</td>\n",
       "      <td>1.445944</td>\n",
       "      <td>19.730199</td>\n",
       "      <td>4.871659</td>\n",
       "    </tr>\n",
       "    <tr>\n",
       "      <th>min</th>\n",
       "      <td>0.000000</td>\n",
       "      <td>0.000000</td>\n",
       "      <td>0.000000</td>\n",
       "      <td>0.000000</td>\n",
       "      <td>0.000000</td>\n",
       "      <td>0.000000</td>\n",
       "      <td>0.000000</td>\n",
       "      <td>0.000000</td>\n",
       "      <td>0.000000</td>\n",
       "    </tr>\n",
       "    <tr>\n",
       "      <th>25%</th>\n",
       "      <td>120.000000</td>\n",
       "      <td>0.100000</td>\n",
       "      <td>0.000000</td>\n",
       "      <td>0.000000</td>\n",
       "      <td>70.000000</td>\n",
       "      <td>21.000000</td>\n",
       "      <td>0.000000</td>\n",
       "      <td>18.000000</td>\n",
       "      <td>3.000000</td>\n",
       "    </tr>\n",
       "    <tr>\n",
       "      <th>50%</th>\n",
       "      <td>185.000000</td>\n",
       "      <td>0.500000</td>\n",
       "      <td>0.000000</td>\n",
       "      <td>5.000000</td>\n",
       "      <td>125.000000</td>\n",
       "      <td>34.000000</td>\n",
       "      <td>0.000000</td>\n",
       "      <td>32.000000</td>\n",
       "      <td>6.000000</td>\n",
       "    </tr>\n",
       "    <tr>\n",
       "      <th>75%</th>\n",
       "      <td>260.000000</td>\n",
       "      <td>2.000000</td>\n",
       "      <td>0.100000</td>\n",
       "      <td>10.000000</td>\n",
       "      <td>170.000000</td>\n",
       "      <td>50.750000</td>\n",
       "      <td>1.000000</td>\n",
       "      <td>43.750000</td>\n",
       "      <td>10.000000</td>\n",
       "    </tr>\n",
       "    <tr>\n",
       "      <th>max</th>\n",
       "      <td>510.000000</td>\n",
       "      <td>9.000000</td>\n",
       "      <td>0.300000</td>\n",
       "      <td>40.000000</td>\n",
       "      <td>340.000000</td>\n",
       "      <td>90.000000</td>\n",
       "      <td>8.000000</td>\n",
       "      <td>84.000000</td>\n",
       "      <td>20.000000</td>\n",
       "    </tr>\n",
       "  </tbody>\n",
       "</table>\n",
       "</div>"
      ],
      "text/plain": [
       "         Calories  Trans Fat (g)   ...   Sugars (g)   Protein (g) \n",
       "count  242.000000      242.000000  ...   242.000000     242.000000\n",
       "mean   193.871901        1.307025  ...    32.962810       6.978512\n",
       "std    102.863303        1.640259  ...    19.730199       4.871659\n",
       "min      0.000000        0.000000  ...     0.000000       0.000000\n",
       "25%    120.000000        0.100000  ...    18.000000       3.000000\n",
       "50%    185.000000        0.500000  ...    32.000000       6.000000\n",
       "75%    260.000000        2.000000  ...    43.750000      10.000000\n",
       "max    510.000000        9.000000  ...    84.000000      20.000000\n",
       "\n",
       "[8 rows x 9 columns]"
      ]
     },
     "execution_count": 37,
     "metadata": {
      "tags": []
     },
     "output_type": "execute_result"
    }
   ],
   "source": [
    "# basic read of the csv file\n",
    "\n",
    "sb_menu = pd.read_csv('starbucks_drinkmenu.csv')\n",
    "sb_menu.describe()\n"
   ]
  },
  {
   "cell_type": "code",
   "execution_count": 45,
   "metadata": {
    "colab": {
     "base_uri": "https://localhost:8080/",
     "height": 236
    },
    "colab_type": "code",
    "id": "bVctyUFbqFZA",
    "outputId": "f36de4a5-9dcc-467f-fe37-670835c716ef"
   },
   "outputs": [
    {
     "data": {
      "text/html": [
       "<div>\n",
       "<style scoped>\n",
       "    .dataframe tbody tr th:only-of-type {\n",
       "        vertical-align: middle;\n",
       "    }\n",
       "\n",
       "    .dataframe tbody tr th {\n",
       "        vertical-align: top;\n",
       "    }\n",
       "\n",
       "    .dataframe thead th {\n",
       "        text-align: right;\n",
       "    }\n",
       "</style>\n",
       "<table border=\"1\" class=\"dataframe\">\n",
       "  <thead>\n",
       "    <tr style=\"text-align: right;\">\n",
       "      <th></th>\n",
       "      <th>Beverage_category</th>\n",
       "      <th>Beverage</th>\n",
       "      <th>Beverage_prep</th>\n",
       "      <th>Calories</th>\n",
       "      <th>Total Fat (g)</th>\n",
       "      <th>Trans Fat (g)</th>\n",
       "      <th>Saturated Fat (g)</th>\n",
       "      <th>Sodium (mg)</th>\n",
       "      <th>Total Carbohydrates (g)</th>\n",
       "      <th>Cholesterol (mg)</th>\n",
       "      <th>Dietary Fibre (g)</th>\n",
       "      <th>Sugars (g)</th>\n",
       "      <th>Protein (g)</th>\n",
       "      <th>Vitamin A (% DV)</th>\n",
       "      <th>Vitamin C (% DV)</th>\n",
       "      <th>Calcium (% DV)</th>\n",
       "      <th>Iron (% DV)</th>\n",
       "      <th>Caffeine (mg)</th>\n",
       "    </tr>\n",
       "  </thead>\n",
       "  <tbody>\n",
       "    <tr>\n",
       "      <th>count</th>\n",
       "      <td>242</td>\n",
       "      <td>242</td>\n",
       "      <td>242</td>\n",
       "      <td>242</td>\n",
       "      <td>242</td>\n",
       "      <td>242.0</td>\n",
       "      <td>242</td>\n",
       "      <td>242</td>\n",
       "      <td>242</td>\n",
       "      <td>242</td>\n",
       "      <td>242</td>\n",
       "      <td>242</td>\n",
       "      <td>242.0</td>\n",
       "      <td>242</td>\n",
       "      <td>242</td>\n",
       "      <td>242</td>\n",
       "      <td>242</td>\n",
       "      <td>241</td>\n",
       "    </tr>\n",
       "    <tr>\n",
       "      <th>unique</th>\n",
       "      <td>9</td>\n",
       "      <td>33</td>\n",
       "      <td>13</td>\n",
       "      <td>48</td>\n",
       "      <td>24</td>\n",
       "      <td>18.0</td>\n",
       "      <td>4</td>\n",
       "      <td>9</td>\n",
       "      <td>51</td>\n",
       "      <td>75</td>\n",
       "      <td>8</td>\n",
       "      <td>70</td>\n",
       "      <td>26.0</td>\n",
       "      <td>11</td>\n",
       "      <td>10</td>\n",
       "      <td>14</td>\n",
       "      <td>18</td>\n",
       "      <td>36</td>\n",
       "    </tr>\n",
       "    <tr>\n",
       "      <th>top</th>\n",
       "      <td>Classic Espresso Drinks</td>\n",
       "      <td>Caramel Macchiato</td>\n",
       "      <td>Soymilk</td>\n",
       "      <td>190</td>\n",
       "      <td>0.1</td>\n",
       "      <td>0.1</td>\n",
       "      <td>X</td>\n",
       "      <td>X</td>\n",
       "      <td>160</td>\n",
       "      <td>31</td>\n",
       "      <td>X</td>\n",
       "      <td>X</td>\n",
       "      <td>3.0</td>\n",
       "      <td>10%</td>\n",
       "      <td>0%</td>\n",
       "      <td>10%</td>\n",
       "      <td>0%</td>\n",
       "      <td>75</td>\n",
       "    </tr>\n",
       "    <tr>\n",
       "      <th>freq</th>\n",
       "      <td>58</td>\n",
       "      <td>12</td>\n",
       "      <td>66</td>\n",
       "      <td>11</td>\n",
       "      <td>34</td>\n",
       "      <td>36.0</td>\n",
       "      <td>180</td>\n",
       "      <td>112</td>\n",
       "      <td>16</td>\n",
       "      <td>10</td>\n",
       "      <td>141</td>\n",
       "      <td>14</td>\n",
       "      <td>30.0</td>\n",
       "      <td>43</td>\n",
       "      <td>188</td>\n",
       "      <td>51</td>\n",
       "      <td>99</td>\n",
       "      <td>37</td>\n",
       "    </tr>\n",
       "  </tbody>\n",
       "</table>\n",
       "</div>"
      ],
      "text/plain": [
       "              Beverage_category           Beverage  ... Iron (% DV)   Caffeine (mg)\n",
       "count                       242                242  ...          242            241\n",
       "unique                        9                 33  ...           18             36\n",
       "top     Classic Espresso Drinks  Caramel Macchiato  ...           0%             75\n",
       "freq                         58                 12  ...           99             37\n",
       "\n",
       "[4 rows x 18 columns]"
      ]
     },
     "execution_count": 45,
     "metadata": {
      "tags": []
     },
     "output_type": "execute_result"
    }
   ],
   "source": [
    "# i have no NA values in my dataset so I will try replace instead of dropna 🤣\n",
    "\n",
    "sb_menu.describe()\n",
    "sb_menu = sb_menu.replace(0, 'X')\n",
    "sb_menu.describe()"
   ]
  },
  {
   "cell_type": "code",
   "execution_count": 46,
   "metadata": {
    "colab": {
     "base_uri": "https://localhost:8080/",
     "height": 17
    },
    "colab_type": "code",
    "id": "7Qwc0w7-qeOF",
    "outputId": "d0b325bd-0393-482e-f2a9-f29494581a16"
   },
   "outputs": [
    {
     "data": {
      "application/javascript": [
       "\n",
       "    async function download(id, filename, size) {\n",
       "      if (!google.colab.kernel.accessAllowed) {\n",
       "        return;\n",
       "      }\n",
       "      const div = document.createElement('div');\n",
       "      const label = document.createElement('label');\n",
       "      label.textContent = `Downloading \"${filename}\": `;\n",
       "      div.appendChild(label);\n",
       "      const progress = document.createElement('progress');\n",
       "      progress.max = size;\n",
       "      div.appendChild(progress);\n",
       "      document.body.appendChild(div);\n",
       "\n",
       "      const buffers = [];\n",
       "      let downloaded = 0;\n",
       "\n",
       "      const channel = await google.colab.kernel.comms.open(id);\n",
       "      // Send a message to notify the kernel that we're ready.\n",
       "      channel.send({})\n",
       "\n",
       "      for await (const message of channel.messages) {\n",
       "        // Send a message to notify the kernel that we're ready.\n",
       "        channel.send({})\n",
       "        if (message.buffers) {\n",
       "          for (const buffer of message.buffers) {\n",
       "            buffers.push(buffer);\n",
       "            downloaded += buffer.byteLength;\n",
       "            progress.value = downloaded;\n",
       "          }\n",
       "        }\n",
       "      }\n",
       "      const blob = new Blob(buffers, {type: 'application/binary'});\n",
       "      const a = document.createElement('a');\n",
       "      a.href = window.URL.createObjectURL(blob);\n",
       "      a.download = filename;\n",
       "      div.appendChild(a);\n",
       "      a.click();\n",
       "      div.remove();\n",
       "    }\n",
       "  "
      ],
      "text/plain": [
       "<IPython.core.display.Javascript object>"
      ]
     },
     "metadata": {
      "tags": []
     },
     "output_type": "display_data"
    },
    {
     "data": {
      "application/javascript": [
       "download(\"download_12fe83e6-e655-47ba-b9f1-1aea12cd26ef\", \"starbucks_drinkmenu_0toX.csv\", 27472)"
      ],
      "text/plain": [
       "<IPython.core.display.Javascript object>"
      ]
     },
     "metadata": {
      "tags": []
     },
     "output_type": "display_data"
    }
   ],
   "source": [
    "# download updated csv 🤣\n",
    "\n",
    "sb_menu.to_csv('starbucks_drinkmenu_0toX.csv', index=False)\n",
    "files.download('starbucks_drinkmenu_0toX.csv')\n",
    "\n",
    "# download success! whew..."
   ]
  },
  {
   "cell_type": "code",
   "execution_count": 48,
   "metadata": {
    "colab": {
     "base_uri": "https://localhost:8080/",
     "height": 253
    },
    "colab_type": "code",
    "id": "B37nI6vQq6Rm",
    "outputId": "39a220ac-85d1-4cb0-9354-6c0bc00636b3"
   },
   "outputs": [
    {
     "name": "stdout",
     "output_type": "stream",
     "text": [
      "Drive already mounted at /content/drive; to attempt to forcibly remount, call drive.mount(\"/content/drive\", force_remount=True).\n"
     ]
    },
    {
     "data": {
      "text/html": [
       "<div>\n",
       "<style scoped>\n",
       "    .dataframe tbody tr th:only-of-type {\n",
       "        vertical-align: middle;\n",
       "    }\n",
       "\n",
       "    .dataframe tbody tr th {\n",
       "        vertical-align: top;\n",
       "    }\n",
       "\n",
       "    .dataframe thead th {\n",
       "        text-align: right;\n",
       "    }\n",
       "</style>\n",
       "<table border=\"1\" class=\"dataframe\">\n",
       "  <thead>\n",
       "    <tr style=\"text-align: right;\">\n",
       "      <th></th>\n",
       "      <th>Beverage_category</th>\n",
       "      <th>Beverage</th>\n",
       "      <th>Beverage_prep</th>\n",
       "      <th>Calories</th>\n",
       "      <th>Total Fat (g)</th>\n",
       "      <th>Trans Fat (g)</th>\n",
       "      <th>Saturated Fat (g)</th>\n",
       "      <th>Sodium (mg)</th>\n",
       "      <th>Total Carbohydrates (g)</th>\n",
       "      <th>Cholesterol (mg)</th>\n",
       "      <th>Dietary Fibre (g)</th>\n",
       "      <th>Sugars (g)</th>\n",
       "      <th>Protein (g)</th>\n",
       "      <th>Vitamin A (% DV)</th>\n",
       "      <th>Vitamin C (% DV)</th>\n",
       "      <th>Calcium (% DV)</th>\n",
       "      <th>Iron (% DV)</th>\n",
       "      <th>Caffeine (mg)</th>\n",
       "    </tr>\n",
       "  </thead>\n",
       "  <tbody>\n",
       "    <tr>\n",
       "      <th>count</th>\n",
       "      <td>242</td>\n",
       "      <td>242</td>\n",
       "      <td>242</td>\n",
       "      <td>242</td>\n",
       "      <td>242</td>\n",
       "      <td>242</td>\n",
       "      <td>242</td>\n",
       "      <td>242</td>\n",
       "      <td>242</td>\n",
       "      <td>242</td>\n",
       "      <td>242</td>\n",
       "      <td>242</td>\n",
       "      <td>242</td>\n",
       "      <td>242</td>\n",
       "      <td>242</td>\n",
       "      <td>242</td>\n",
       "      <td>242</td>\n",
       "      <td>241</td>\n",
       "    </tr>\n",
       "    <tr>\n",
       "      <th>unique</th>\n",
       "      <td>9</td>\n",
       "      <td>33</td>\n",
       "      <td>13</td>\n",
       "      <td>48</td>\n",
       "      <td>24</td>\n",
       "      <td>18</td>\n",
       "      <td>4</td>\n",
       "      <td>9</td>\n",
       "      <td>51</td>\n",
       "      <td>75</td>\n",
       "      <td>8</td>\n",
       "      <td>70</td>\n",
       "      <td>26</td>\n",
       "      <td>11</td>\n",
       "      <td>10</td>\n",
       "      <td>14</td>\n",
       "      <td>18</td>\n",
       "      <td>36</td>\n",
       "    </tr>\n",
       "    <tr>\n",
       "      <th>top</th>\n",
       "      <td>Classic Espresso Drinks</td>\n",
       "      <td>Caramel Macchiato</td>\n",
       "      <td>Soymilk</td>\n",
       "      <td>180</td>\n",
       "      <td>0.1</td>\n",
       "      <td>0.1</td>\n",
       "      <td>X</td>\n",
       "      <td>X</td>\n",
       "      <td>160</td>\n",
       "      <td>31</td>\n",
       "      <td>X</td>\n",
       "      <td>X</td>\n",
       "      <td>3.0</td>\n",
       "      <td>10%</td>\n",
       "      <td>0%</td>\n",
       "      <td>10%</td>\n",
       "      <td>0%</td>\n",
       "      <td>75</td>\n",
       "    </tr>\n",
       "    <tr>\n",
       "      <th>freq</th>\n",
       "      <td>58</td>\n",
       "      <td>12</td>\n",
       "      <td>66</td>\n",
       "      <td>11</td>\n",
       "      <td>34</td>\n",
       "      <td>36</td>\n",
       "      <td>180</td>\n",
       "      <td>112</td>\n",
       "      <td>16</td>\n",
       "      <td>10</td>\n",
       "      <td>141</td>\n",
       "      <td>14</td>\n",
       "      <td>30</td>\n",
       "      <td>43</td>\n",
       "      <td>188</td>\n",
       "      <td>51</td>\n",
       "      <td>99</td>\n",
       "      <td>37</td>\n",
       "    </tr>\n",
       "  </tbody>\n",
       "</table>\n",
       "</div>"
      ],
      "text/plain": [
       "              Beverage_category           Beverage  ... Iron (% DV)  Caffeine (mg)\n",
       "count                       242                242  ...          242           241\n",
       "unique                        9                 33  ...           18            36\n",
       "top     Classic Espresso Drinks  Caramel Macchiato  ...           0%            75\n",
       "freq                         58                 12  ...           99            37\n",
       "\n",
       "[4 rows x 18 columns]"
      ]
     },
     "execution_count": 48,
     "metadata": {
      "tags": []
     },
     "output_type": "execute_result"
    }
   ],
   "source": [
    "# connect to Google drive\n",
    "\n",
    "from google.colab import drive\n",
    "drive.mount('/content/drive')\n",
    "\n",
    "# connect to Google drive\n",
    "sb_menuB = pd.read_csv('/content/drive/My Drive/My Files/starbucks_drinkmenu_0toX.csv')\n",
    "sb_menuB.describe()"
   ]
  },
  {
   "cell_type": "markdown",
   "metadata": {
    "colab_type": "text",
    "id": "Fku_toRftn2a"
   },
   "source": [
    "\n",
    "### ~~My Tasks~~\n",
    "\n",
    "1. [x] Follow guide doc and do my code-along\n",
    "1. [ ] Create a blog regarding my code-along and include the Github link\n",
    "1. [ ] Submit the Github and blog link in MyCamu na_if(df, 0)\n",
    "\n",
    "Well, I am not in the mood to create a blog just yet. For now, I will just download this as .ipynb and use git cmd and upload this to my git hub repository\n",
    "\n",
    "my github repo: https://github.com/raki-ftw/Git-Basics-200918-AR"
   ]
  },
  {
   "cell_type": "code",
   "execution_count": null,
   "metadata": {
    "colab": {},
    "colab_type": "code",
    "id": "J2kxnPWtuLpm"
   },
   "outputs": [],
   "source": []
  }
 ],
 "metadata": {
  "colab": {
   "collapsed_sections": [],
   "name": "Git Basics 200918AR.ipynb",
   "provenance": []
  },
  "kernelspec": {
   "display_name": "Python 3",
   "language": "python",
   "name": "python3"
  },
  "language_info": {
   "codemirror_mode": {
    "name": "ipython",
    "version": 3
   },
   "file_extension": ".py",
   "mimetype": "text/x-python",
   "name": "python",
   "nbconvert_exporter": "python",
   "pygments_lexer": "ipython3",
   "version": "3.8.3"
  }
 },
 "nbformat": 4,
 "nbformat_minor": 1
}
